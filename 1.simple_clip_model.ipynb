{
 "cells": [
  {
   "cell_type": "markdown",
   "id": "9931e805-e562-434a-87e5-f7de1e7617ba",
   "metadata": {
    "execution": {
     "iopub.execute_input": "2024-10-31T15:11:08.477034Z",
     "iopub.status.busy": "2024-10-31T15:11:08.476039Z",
     "iopub.status.idle": "2024-10-31T15:11:08.483557Z",
     "shell.execute_reply": "2024-10-31T15:11:08.482550Z",
     "shell.execute_reply.started": "2024-10-31T15:11:08.477034Z"
    }
   },
   "source": [
    "# 简单的 CLIP 模型"
   ]
  },
  {
   "cell_type": "code",
   "execution_count": 1,
   "id": "fcc21df0-c92a-471a-b3c8-920fdb4284f0",
   "metadata": {
    "execution": {
     "iopub.execute_input": "2024-10-31T15:19:06.535281Z",
     "iopub.status.busy": "2024-10-31T15:19:06.535281Z",
     "iopub.status.idle": "2024-10-31T15:19:06.538288Z",
     "shell.execute_reply": "2024-10-31T15:19:06.538288Z",
     "shell.execute_reply.started": "2024-10-31T15:19:06.535281Z"
    }
   },
   "outputs": [],
   "source": [
    "# !python -m pip install --upgrade pip setuptools -i https://mirrors.aliyun.com/pypi/simple/\n",
    "# !python -m pip install git+https://github.com/openai/CLIP.git -i https://mirrors.aliyun.com/pypi/simple/"
   ]
  },
  {
   "cell_type": "code",
   "execution_count": 2,
   "id": "7dba0b63-2017-4a93-8c56-1cd96e5fffa9",
   "metadata": {
    "execution": {
     "iopub.execute_input": "2024-10-31T15:19:06.539365Z",
     "iopub.status.busy": "2024-10-31T15:19:06.539365Z",
     "iopub.status.idle": "2024-10-31T15:19:09.632403Z",
     "shell.execute_reply": "2024-10-31T15:19:09.631396Z",
     "shell.execute_reply.started": "2024-10-31T15:19:06.539365Z"
    }
   },
   "outputs": [],
   "source": [
    "import torch\n",
    "import clip\n",
    "from PIL import Image\n",
    "import logging\n",
    "import time\n",
    "\n",
    "import utils"
   ]
  },
  {
   "cell_type": "code",
   "execution_count": 3,
   "id": "fd90ceed-4e22-4bd8-a101-018f03a8cf20",
   "metadata": {
    "execution": {
     "iopub.execute_input": "2024-10-31T15:19:09.633404Z",
     "iopub.status.busy": "2024-10-31T15:19:09.632403Z",
     "iopub.status.idle": "2024-10-31T15:19:09.636725Z",
     "shell.execute_reply": "2024-10-31T15:19:09.636725Z",
     "shell.execute_reply.started": "2024-10-31T15:19:09.633404Z"
    }
   },
   "outputs": [
    {
     "name": "stderr",
     "output_type": "stream",
     "text": [
      "INFO:__main__:Using device: cuda\n"
     ]
    }
   ],
   "source": [
    "MODEL_PATH = 'model'\n",
    "DATA_PATH = 'data'\n",
    "\n",
    "model_path = utils.gen_abspath(directory='./', rel_path=MODEL_PATH)\n",
    "\n",
    "# 设置日志记录\n",
    "logging.basicConfig(level=logging.INFO)\n",
    "logger = logging.getLogger(__name__)\n",
    "\n",
    "# 检查 GPU 是否可用\n",
    "device = torch.device(\"cuda\" if torch.cuda.is_available() else \"cpu\")\n",
    "logger.info(f\"Using device: {device}\")"
   ]
  },
  {
   "cell_type": "code",
   "execution_count": 4,
   "id": "08b261cf-ee26-4e2b-a40d-8f1a63bce2f2",
   "metadata": {
    "execution": {
     "iopub.execute_input": "2024-10-31T15:19:09.637743Z",
     "iopub.status.busy": "2024-10-31T15:19:09.637743Z",
     "iopub.status.idle": "2024-10-31T15:19:11.467850Z",
     "shell.execute_reply": "2024-10-31T15:19:11.467850Z",
     "shell.execute_reply.started": "2024-10-31T15:19:09.637743Z"
    }
   },
   "outputs": [],
   "source": [
    "# 下载模型\n",
    "model, preprocess = clip.load(\"ViT-B/32\", device=device, download_root=model_path)"
   ]
  },
  {
   "cell_type": "code",
   "execution_count": 5,
   "id": "97f15209-e82d-44db-8f73-9e016e64171f",
   "metadata": {
    "execution": {
     "iopub.execute_input": "2024-10-31T15:19:11.468861Z",
     "iopub.status.busy": "2024-10-31T15:19:11.468861Z",
     "iopub.status.idle": "2024-10-31T15:19:11.473219Z",
     "shell.execute_reply": "2024-10-31T15:19:11.473219Z",
     "shell.execute_reply.started": "2024-10-31T15:19:11.468861Z"
    }
   },
   "outputs": [],
   "source": [
    "def generate_image_embedding(image_path):\n",
    "    # 加载示例图像并处理\n",
    "    try:\n",
    "        image = preprocess(Image.open(image_path)).unsqueeze(0).to(device)\n",
    "    except FileNotFoundError:\n",
    "        logger.error(f\"The image file {image_path} was not found.\")\n",
    "        raise\n",
    "    except Exception as e:\n",
    "        logger.error(f\"An error occurred while opening the image: {e}\")\n",
    "        raise\n",
    "\n",
    "    # 使用模型生成图像的 Embedding\n",
    "    with torch.no_grad():\n",
    "        image_features = model.encode_image(image)\n",
    "    \n",
    "    # 将 Embedding 转换为标准化的向量\n",
    "    image_features /= image_features.norm(dim=-1, keepdim=True)\n",
    "    return image_features\n",
    "\n",
    "def generate_text_embedding(text_list):\n",
    "    # 将文本转化为 tokens\n",
    "    text_tokens = clip.tokenize(text_list).to(device)\n",
    "    \n",
    "    # 使用模型生成文本的 Embedding\n",
    "    with torch.no_grad():\n",
    "        text_features = model.encode_text(text_tokens)\n",
    "    \n",
    "    # 将 Embedding 转换为标准化的向量\n",
    "    text_features /= text_features.norm(dim=-1, keepdim=True)\n",
    "    return text_features"
   ]
  },
  {
   "cell_type": "code",
   "execution_count": 12,
   "id": "bf4dd69f-0990-40bf-8dfc-c8c8e2a98a99",
   "metadata": {
    "execution": {
     "iopub.execute_input": "2024-10-31T15:19:53.953379Z",
     "iopub.status.busy": "2024-10-31T15:19:53.953379Z",
     "iopub.status.idle": "2024-10-31T15:19:53.983479Z",
     "shell.execute_reply": "2024-10-31T15:19:53.983479Z",
     "shell.execute_reply.started": "2024-10-31T15:19:53.953379Z"
    }
   },
   "outputs": [
    {
     "data": {
      "text/plain": [
       "(torch.Size([2, 512]), device(type='cuda', index=0))"
      ]
     },
     "execution_count": 12,
     "metadata": {},
     "output_type": "execute_result"
    }
   ],
   "source": [
    "# 获取文本 Embedding\n",
    "# text_features = generate_text_embedding([\"A photo of a cat\", \"A photo of a dog\"])\n",
    "text_features = generate_text_embedding([\"一只猫\", \"一条狗\"])\n",
    "text_features.shape, text_features.device"
   ]
  },
  {
   "cell_type": "code",
   "execution_count": 13,
   "id": "10bfa626-d2c6-41dc-9cfa-210792da3726",
   "metadata": {
    "execution": {
     "iopub.execute_input": "2024-10-31T15:19:54.205148Z",
     "iopub.status.busy": "2024-10-31T15:19:54.205148Z",
     "iopub.status.idle": "2024-10-31T15:19:54.363833Z",
     "shell.execute_reply": "2024-10-31T15:19:54.363231Z",
     "shell.execute_reply.started": "2024-10-31T15:19:54.205148Z"
    }
   },
   "outputs": [
    {
     "data": {
      "text/plain": [
       "(torch.Size([1, 512]), device(type='cuda', index=0))"
      ]
     },
     "execution_count": 13,
     "metadata": {},
     "output_type": "execute_result"
    }
   ],
   "source": [
    "# 获取图片 Embedding\n",
    "img_path = utils.gen_abspath(directory=DATA_PATH, rel_path='cat.JPG')\n",
    "image_features = generate_image_embedding(img_path)\n",
    "image_features.shape, image_features.device"
   ]
  },
  {
   "cell_type": "code",
   "execution_count": 14,
   "id": "9ed545ad-37c2-4c4b-b74a-739fa5045832",
   "metadata": {
    "execution": {
     "iopub.execute_input": "2024-10-31T15:19:54.378456Z",
     "iopub.status.busy": "2024-10-31T15:19:54.378456Z",
     "iopub.status.idle": "2024-10-31T15:19:54.388281Z",
     "shell.execute_reply": "2024-10-31T15:19:54.386970Z",
     "shell.execute_reply.started": "2024-10-31T15:19:54.378456Z"
    }
   },
   "outputs": [
    {
     "data": {
      "text/plain": [
       "array([[0.281 , 0.2598]], dtype=float16)"
      ]
     },
     "execution_count": 14,
     "metadata": {},
     "output_type": "execute_result"
    }
   ],
   "source": [
    "# 计算图像与文本的相似性分数\n",
    "eventual_similarity = torch.matmul(image_features, text_features.T)\n",
    "eventual_similarity.cpu().numpy()"
   ]
  },
  {
   "cell_type": "code",
   "execution_count": null,
   "id": "8449658a-fa5b-4202-91c3-12cea7b2b711",
   "metadata": {},
   "outputs": [],
   "source": []
  }
 ],
 "metadata": {
  "kernelspec": {
   "display_name": "Python 3 (ipykernel)",
   "language": "python",
   "name": "python3"
  },
  "language_info": {
   "codemirror_mode": {
    "name": "ipython",
    "version": 3
   },
   "file_extension": ".py",
   "mimetype": "text/x-python",
   "name": "python",
   "nbconvert_exporter": "python",
   "pygments_lexer": "ipython3",
   "version": "3.12.3"
  }
 },
 "nbformat": 4,
 "nbformat_minor": 5
}
