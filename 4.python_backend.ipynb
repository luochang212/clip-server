{
 "cells": [
  {
   "cell_type": "markdown",
   "id": "e5c8dccd-e141-4246-8d26-fd2cf6a91458",
   "metadata": {
    "execution": {
     "iopub.execute_input": "2024-11-26T06:15:19.860774Z",
     "iopub.status.busy": "2024-11-26T06:15:19.858488Z",
     "iopub.status.idle": "2024-11-26T06:15:19.871324Z",
     "shell.execute_reply": "2024-11-26T06:15:19.870707Z",
     "shell.execute_reply.started": "2024-11-26T06:15:19.860774Z"
    }
   },
   "source": [
    "# Python Backend 入门\n",
    "\n",
    "ONNX 只接受张量作为输入。如果希望给 Triton 提供图像或者文本，那就需要对输入做预处理，处理成张量后再传给 ONNX.\n",
    "\n",
    "在 Triton 中做图像、文本预处理，需要用到 [Python Backend](https://github.com/triton-inference-server/python_backend)."
   ]
  },
  {
   "cell_type": "code",
   "execution_count": 1,
   "id": "b9ab2f33-9109-4252-a8d4-bc43c021586a",
   "metadata": {
    "execution": {
     "iopub.execute_input": "2024-11-29T15:16:28.276839Z",
     "iopub.status.busy": "2024-11-29T15:16:28.275860Z",
     "iopub.status.idle": "2024-11-29T15:16:28.281925Z",
     "shell.execute_reply": "2024-11-29T15:16:28.280824Z",
     "shell.execute_reply.started": "2024-11-29T15:16:28.276839Z"
    }
   },
   "outputs": [],
   "source": [
    "import os\n",
    "\n",
    "os.environ['HF_ENDPOINT'] = 'https://hf-mirror.com'"
   ]
  },
  {
   "cell_type": "code",
   "execution_count": 2,
   "id": "32a6920d-ea56-42f0-b32f-6c16c206300e",
   "metadata": {
    "execution": {
     "iopub.execute_input": "2024-11-29T15:16:28.282926Z",
     "iopub.status.busy": "2024-11-29T15:16:28.282926Z",
     "iopub.status.idle": "2024-11-29T15:16:29.245263Z",
     "shell.execute_reply": "2024-11-29T15:16:29.245263Z",
     "shell.execute_reply.started": "2024-11-29T15:16:28.282926Z"
    }
   },
   "outputs": [],
   "source": [
    "import numpy as np\n",
    "import requests\n",
    "\n",
    "import utils"
   ]
  },
  {
   "cell_type": "markdown",
   "id": "ea6e3e77",
   "metadata": {},
   "source": [
    "## 1. 准备模型存储库\n",
    "\n",
    "存储库结构如下：\n",
    "\n",
    "```\n",
    "model_repository/\n",
    "  └── simple_python_backend/\n",
    "      ├── 1/\n",
    "      │   └── model.py\n",
    "      └── config.pbtxt\n",
    "```"
   ]
  },
  {
   "cell_type": "markdown",
   "id": "095f2114",
   "metadata": {},
   "source": [
    "## 2. 编写模型文件\n",
    "\n",
    "创建一个超简单数据处理逻辑，模拟模型的行为：\n",
    "\n",
    "- 模型输入分别是 `(2, 3)` 和 `(3, 3)` 维的矩阵\n",
    "- 模型输出是一个 `(3, 3)` 维的矩阵"
   ]
  },
  {
   "cell_type": "code",
   "execution_count": 3,
   "id": "91de256f",
   "metadata": {
    "execution": {
     "iopub.execute_input": "2024-11-29T15:16:29.246311Z",
     "iopub.status.busy": "2024-11-29T15:16:29.246311Z",
     "iopub.status.idle": "2024-11-29T15:16:29.253506Z",
     "shell.execute_reply": "2024-11-29T15:16:29.252931Z",
     "shell.execute_reply.started": "2024-11-29T15:16:29.246311Z"
    }
   },
   "outputs": [
    {
     "data": {
      "text/plain": [
       "array([[30, 36, 42],\n",
       "       [60, 72, 84]])"
      ]
     },
     "execution_count": 3,
     "metadata": {},
     "output_type": "execute_result"
    }
   ],
   "source": [
    "def matrix_dot(matrix_a, matrix_b):\n",
    "    \"\"\"计算两个矩阵的点乘\"\"\"\n",
    "    return np.dot(matrix_a, matrix_b)\n",
    "\n",
    "a = [[1, 2, 3], [3, 4, 5]]\n",
    "b = [[5, 6, 7], [5, 6, 7], [5, 6, 7]]\n",
    "matrix_dot(a, b)"
   ]
  },
  {
   "cell_type": "code",
   "execution_count": 4,
   "id": "fd47d14e",
   "metadata": {
    "execution": {
     "iopub.execute_input": "2024-11-29T15:16:29.253506Z",
     "iopub.status.busy": "2024-11-29T15:16:29.253506Z",
     "iopub.status.idle": "2024-11-29T15:16:29.258112Z",
     "shell.execute_reply": "2024-11-29T15:16:29.258112Z",
     "shell.execute_reply.started": "2024-11-29T15:16:29.253506Z"
    }
   },
   "outputs": [
    {
     "data": {
      "text/plain": [
       "((2, 3), (3, 3), (2, 3))"
      ]
     },
     "execution_count": 4,
     "metadata": {},
     "output_type": "execute_result"
    }
   ],
   "source": [
    "np.array(a).shape, np.array(b).shape, matrix_dot(a, b).shape"
   ]
  },
  {
   "cell_type": "markdown",
   "id": "f3fbe9cd",
   "metadata": {},
   "source": [
    "**模型文件** simple_python_backend/1/model.py\n",
    "\n",
    "```python\n",
    "import json\n",
    "import numpy as np\n",
    "import triton_python_backend_utils as pb_utils\n",
    "\n",
    "class TritonPythonModel:\n",
    "    def initialize(self, args):\n",
    "\n",
    "        model_config = json.loads(args[\"model_config\"])\n",
    "        output0_config = pb_utils.get_output_config_by_name(model_config, \"dot_output\")\n",
    "        self.output0_dtype = pb_utils.triton_string_to_numpy(output0_config[\"data_type\"])\n",
    "\n",
    "    def execute(self, requests):\n",
    "        output0_dtype = self.output0_dtype\n",
    "\n",
    "        responses = []\n",
    "        for request in requests:\n",
    "            in_0 = pb_utils.get_input_tensor_by_name(request, \"matrix_a_input\")\n",
    "            in_1 = pb_utils.get_input_tensor_by_name(request, \"matrix_b_input\")\n",
    "\n",
    "            matrix_out = np.dot(in_0.as_numpy(), in_1.as_numpy())\n",
    "\n",
    "            out_tensor_0 = pb_utils.Tensor(\"dot_output\", matrix_out.astype(output0_dtype))\n",
    "            inference_response = pb_utils.InferenceResponse(output_tensors=[out_tensor_0])\n",
    "            responses.append(inference_response)\n",
    "        return responses\n",
    "\n",
    "    def finalize(self):\n",
    "        print(\"Cleaning up...\")\n",
    "```\n"
   ]
  },
  {
   "cell_type": "markdown",
   "id": "fb268973",
   "metadata": {},
   "source": [
    "## 3. 编写配置文件\n",
    "\n",
    "创建一个配置文件 `config.pbtxt`，用于描述模型的输入、输出、运行设备、动态批量等配置信息。\n",
    "\n",
    "**模型配置** simple_python_backend/config.pbtxt\n",
    "\n",
    "```\n",
    "name: \"simple_python_backend\"\n",
    "backend: \"python\"\n",
    "max_batch_size: 256\n",
    "input [\n",
    "{\n",
    "    name: \"matrix_a_input\"\n",
    "    data_type: TYPE_FP32\n",
    "    dims: [ 2, 3 ]\n",
    "},\n",
    "{\n",
    "    name: \"matrix_b_input\"\n",
    "    data_type: TYPE_FP32\n",
    "    dims: [ 3, 3 ]\n",
    "}\n",
    "]\n",
    "\n",
    "output [\n",
    "{\n",
    "    name: \"dot_output\"\n",
    "    data_type: TYPE_FP32\n",
    "    dims: [ 2, 3 ]\n",
    "}\n",
    "]\n",
    "\n",
    "instance_group [\n",
    "  {\n",
    "    count: 2\n",
    "    kind: KIND_CPU\n",
    "  },\n",
    "  {\n",
    "    count: 1\n",
    "    kind: KIND_GPU\n",
    "    gpus: [ 0 ]\n",
    "  }\n",
    "]\n",
    "\n",
    "dynamic_batching {\n",
    "    max_queue_delay_microseconds: 100\n",
    "}\n",
    "```\n",
    "\n",
    "## 4. 启动 Triton\n",
    "\n",
    "用以下命令启动 triton。可以开启模型重载功能（`--model-control-mode=poll`），以便调试接口。\n",
    "\n",
    "```bash\n",
    "tritonserver --model-repository=/models --model-control-mode=poll --repository-poll-secs=20\n",
    "```\n",
    "\n",
    "如果成功启动，可以看见以下日志：\n",
    "\n",
    "```\n",
    "+-----------------------+---------+--------+\n",
    "| Model                 | Version | Status |\n",
    "+-----------------------+---------+--------+\n",
    "| simple_python_backend | 1       | READY  |\n",
    "+-----------------------+---------+--------+\n",
    "```\n",
    "\n",
    "## 5. 客户端调用"
   ]
  },
  {
   "cell_type": "code",
   "execution_count": 5,
   "id": "03c6002d",
   "metadata": {
    "execution": {
     "iopub.execute_input": "2024-11-29T15:16:29.259198Z",
     "iopub.status.busy": "2024-11-29T15:16:29.259198Z",
     "iopub.status.idle": "2024-11-29T15:16:29.262176Z",
     "shell.execute_reply": "2024-11-29T15:16:29.262176Z",
     "shell.execute_reply.started": "2024-11-29T15:16:29.259198Z"
    }
   },
   "outputs": [],
   "source": [
    "TRITON_URL = \"http://localhost:8000\"\n",
    "\n",
    "PYTHON_MODEL = \"simple_python_backend\""
   ]
  },
  {
   "cell_type": "code",
   "execution_count": 6,
   "id": "2beb4139",
   "metadata": {
    "execution": {
     "iopub.execute_input": "2024-11-29T15:16:29.264238Z",
     "iopub.status.busy": "2024-11-29T15:16:29.263238Z",
     "iopub.status.idle": "2024-11-29T15:16:29.275637Z",
     "shell.execute_reply": "2024-11-29T15:16:29.275322Z",
     "shell.execute_reply.started": "2024-11-29T15:16:29.264238Z"
    }
   },
   "outputs": [
    {
     "name": "stdout",
     "output_type": "stream",
     "text": [
      "Triton server is ready.\n"
     ]
    }
   ],
   "source": [
    "utils.check_triton_health()"
   ]
  },
  {
   "cell_type": "code",
   "execution_count": 7,
   "id": "90d3e76a",
   "metadata": {
    "execution": {
     "iopub.execute_input": "2024-11-29T15:16:29.276719Z",
     "iopub.status.busy": "2024-11-29T15:16:29.276719Z",
     "iopub.status.idle": "2024-11-29T15:16:29.286357Z",
     "shell.execute_reply": "2024-11-29T15:16:29.286357Z",
     "shell.execute_reply.started": "2024-11-29T15:16:29.276719Z"
    }
   },
   "outputs": [
    {
     "name": "stdout",
     "output_type": "stream",
     "text": [
      "Model 'simple_python_backend' is ready.\n"
     ]
    }
   ],
   "source": [
    "utils.check_model_health(model_name=PYTHON_MODEL)"
   ]
  },
  {
   "cell_type": "code",
   "execution_count": 8,
   "id": "475946e6",
   "metadata": {
    "execution": {
     "iopub.execute_input": "2024-11-29T15:16:29.287966Z",
     "iopub.status.busy": "2024-11-29T15:16:29.287966Z",
     "iopub.status.idle": "2024-11-29T15:16:29.293486Z",
     "shell.execute_reply": "2024-11-29T15:16:29.292385Z",
     "shell.execute_reply.started": "2024-11-29T15:16:29.287966Z"
    }
   },
   "outputs": [],
   "source": [
    "def get_dot_result(\n",
    "        matrix_a,\n",
    "        matrix_b,\n",
    "        model_name,\n",
    "        triton_url=TRITON_URL,\n",
    "        model_version='1'):\n",
    "\n",
    "    url = f\"{triton_url}/v2/models/{model_name}/versions/{model_version}/infer\"\n",
    "\n",
    "    # 将输入数据转换为 JSON 格式\n",
    "    input_data_json = {\n",
    "        \"inputs\": [\n",
    "            {\n",
    "                \"name\": 'matrix_a_input',\n",
    "                \"shape\": list(matrix_a.shape),\n",
    "                \"datatype\": \"FP32\",\n",
    "                \"data\": matrix_a.flatten().tolist()\n",
    "            },\n",
    "            {\n",
    "                \"name\": 'matrix_b_input',\n",
    "                \"shape\": list(matrix_b.shape),\n",
    "                \"datatype\": \"FP32\",\n",
    "                \"data\": matrix_b.flatten().tolist()\n",
    "            }\n",
    "        ]\n",
    "    }\n",
    "\n",
    "    # 发送 POST 请求\n",
    "    response = requests.post(url, json=input_data_json)\n",
    "\n",
    "    # 检查响应状态码\n",
    "    if response.status_code != 200:\n",
    "        raise Exception(f\"Inference request failed with status code {response.status_code}: {response.text}\")\n",
    "\n",
    "    # 解析响应\n",
    "    result = response.json()\n",
    "\n",
    "    return result"
   ]
  },
  {
   "cell_type": "code",
   "execution_count": 9,
   "id": "a740828a",
   "metadata": {
    "execution": {
     "iopub.execute_input": "2024-11-29T15:16:29.294465Z",
     "iopub.status.busy": "2024-11-29T15:16:29.294465Z",
     "iopub.status.idle": "2024-11-29T15:16:29.301232Z",
     "shell.execute_reply": "2024-11-29T15:16:29.301232Z",
     "shell.execute_reply.started": "2024-11-29T15:16:29.294465Z"
    }
   },
   "outputs": [
    {
     "data": {
      "text/plain": [
       "(array([[[76.198975 , 46.66827  ,  3.8670235],\n",
       "         [37.84335  , 84.079155 , 18.604324 ]],\n",
       " \n",
       "        [[36.68547  , 12.755604 , 81.027504 ],\n",
       "         [19.381435 , 34.726177 , 90.25347  ]]], dtype=float32),\n",
       " array([[[54.96951 , 62.9187  , 33.921318],\n",
       "         [50.967373, 66.616615, 53.998264],\n",
       "         [46.455822, 23.68376 , 71.7238  ]],\n",
       " \n",
       "        [[28.173761, 76.02462 , 97.00841 ],\n",
       "         [76.86671 , 18.352785, 59.100372],\n",
       "         [ 6.008605, 48.57268 , 78.99156 ]]], dtype=float32))"
      ]
     },
     "execution_count": 9,
     "metadata": {},
     "output_type": "execute_result"
    }
   ],
   "source": [
    "# 示例输入数据\n",
    "matrix_a = np.random.uniform(0, 99, (2, 2, 3)).astype(np.float32)\n",
    "matrix_b = np.random.uniform(0, 99, (2, 3, 3)).astype(np.float32)\n",
    "\n",
    "matrix_a, matrix_b"
   ]
  },
  {
   "cell_type": "code",
   "execution_count": 10,
   "id": "5a0e6384",
   "metadata": {
    "execution": {
     "iopub.execute_input": "2024-11-29T15:16:29.301796Z",
     "iopub.status.busy": "2024-11-29T15:16:29.301796Z",
     "iopub.status.idle": "2024-11-29T15:16:29.350689Z",
     "shell.execute_reply": "2024-11-29T15:16:29.350689Z",
     "shell.execute_reply.started": "2024-11-29T15:16:29.301796Z"
    }
   },
   "outputs": [
    {
     "data": {
      "text/plain": [
       "{'model_name': 'simple_python_backend',\n",
       " 'model_version': '1',\n",
       " 'outputs': [{'name': 'dot_output',\n",
       "   'datatype': 'FP32',\n",
       "   'shape': [2, 2, 2, 3],\n",
       "   'data': [6746.8251953125,\n",
       "    7994.80810546875,\n",
       "    5382.1328125,\n",
       "    5757.283203125,\n",
       "    6837.322265625,\n",
       "    10455.515625,\n",
       "    7229.802734375,\n",
       "    8422.7431640625,\n",
       "    7158.197265625,\n",
       "    7640.86328125,\n",
       "    5323.775390625,\n",
       "    10109.8173828125,\n",
       "    6430.9013671875,\n",
       "    5076.97314453125,\n",
       "    7744.80078125,\n",
       "    2500.911376953125,\n",
       "    6958.8232421875,\n",
       "    10713.1494140625,\n",
       "    7028.08935546875,\n",
       "    5670.33642578125,\n",
       "    9005.9189453125,\n",
       "    3757.63232421875,\n",
       "    6494.6416015625,\n",
       "    11061.7548828125]}]}"
      ]
     },
     "execution_count": 10,
     "metadata": {},
     "output_type": "execute_result"
    }
   ],
   "source": [
    "# 发送推理请求\n",
    "output = get_dot_result(matrix_a,\n",
    "                        matrix_b,\n",
    "                        model_name=PYTHON_MODEL)\n",
    "output"
   ]
  },
  {
   "cell_type": "code",
   "execution_count": 11,
   "id": "9479acfc",
   "metadata": {
    "execution": {
     "iopub.execute_input": "2024-11-29T15:16:29.351197Z",
     "iopub.status.busy": "2024-11-29T15:16:29.351197Z",
     "iopub.status.idle": "2024-11-29T15:16:29.356132Z",
     "shell.execute_reply": "2024-11-29T15:16:29.356132Z",
     "shell.execute_reply.started": "2024-11-29T15:16:29.351197Z"
    }
   },
   "outputs": [
    {
     "data": {
      "text/plain": [
       "array([[[[ 6746.82519531,  7994.80810547,  5382.1328125 ],\n",
       "         [ 5757.28320312,  6837.32226562, 10455.515625  ]],\n",
       "\n",
       "        [[ 7229.80273438,  8422.74316406,  7158.19726562],\n",
       "         [ 7640.86328125,  5323.77539062, 10109.81738281]]],\n",
       "\n",
       "\n",
       "       [[[ 6430.90136719,  5076.97314453,  7744.80078125],\n",
       "         [ 2500.91137695,  6958.82324219, 10713.14941406]],\n",
       "\n",
       "        [[ 7028.08935547,  5670.33642578,  9005.91894531],\n",
       "         [ 3757.63232422,  6494.64160156, 11061.75488281]]]])"
      ]
     },
     "execution_count": 11,
     "metadata": {},
     "output_type": "execute_result"
    }
   ],
   "source": [
    "np.array(output['outputs'][0]['data']).reshape(-1, 2, 2, 3)"
   ]
  },
  {
   "cell_type": "code",
   "execution_count": 12,
   "id": "5d73f759",
   "metadata": {
    "execution": {
     "iopub.execute_input": "2024-11-29T15:16:29.357765Z",
     "iopub.status.busy": "2024-11-29T15:16:29.356132Z",
     "iopub.status.idle": "2024-11-29T15:16:29.361877Z",
     "shell.execute_reply": "2024-11-29T15:16:29.361877Z",
     "shell.execute_reply.started": "2024-11-29T15:16:29.357765Z"
    }
   },
   "outputs": [
    {
     "data": {
      "text/plain": [
       "array([[[[ 6746.825 ,  7994.808 ,  5382.133 ],\n",
       "         [ 5757.283 ,  6837.3223, 10455.516 ]],\n",
       "\n",
       "        [[ 7229.8027,  8422.743 ,  7158.1978],\n",
       "         [ 7640.8633,  5323.7754, 10109.817 ]]],\n",
       "\n",
       "\n",
       "       [[[ 6430.9014,  5076.973 ,  7744.8003],\n",
       "         [ 2500.9114,  6958.8228, 10713.149 ]],\n",
       "\n",
       "        [[ 7028.0894,  5670.3364,  9005.919 ],\n",
       "         [ 3757.632 ,  6494.6416, 11061.755 ]]]], dtype=float32)"
      ]
     },
     "execution_count": 12,
     "metadata": {},
     "output_type": "execute_result"
    }
   ],
   "source": [
    "np.dot(matrix_a, matrix_b)"
   ]
  },
  {
   "cell_type": "code",
   "execution_count": null,
   "id": "3c8c99a5-47b0-452c-a360-9069b987ad19",
   "metadata": {},
   "outputs": [],
   "source": []
  }
 ],
 "metadata": {
  "kernelspec": {
   "display_name": "base",
   "language": "python",
   "name": "python3"
  },
  "language_info": {
   "codemirror_mode": {
    "name": "ipython",
    "version": 3
   },
   "file_extension": ".py",
   "mimetype": "text/x-python",
   "name": "python",
   "nbconvert_exporter": "python",
   "pygments_lexer": "ipython3",
   "version": "3.12.3"
  }
 },
 "nbformat": 4,
 "nbformat_minor": 5
}
